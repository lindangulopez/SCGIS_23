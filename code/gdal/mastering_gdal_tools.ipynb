{
  "nbformat": 4,
  "nbformat_minor": 0,
  "metadata": {
    "colab": {
      "provenance": [],
      "toc_visible": true,
      "include_colab_link": true
    },
    "kernelspec": {
      "name": "python3",
      "display_name": "Python 3"
    },
    "language_info": {
      "name": "python"
    }
  },
  "cells": [
    {
      "cell_type": "markdown",
      "metadata": {
        "id": "view-in-github",
        "colab_type": "text"
      },
      "source": [
        "<a href=\"https://colab.research.google.com/github/lindangulopez/SCGIS_23/blob/QGIS/code/gdal/mastering_gdal_tools.ipynb\" target=\"_parent\"><img src=\"https://colab.research.google.com/assets/colab-badge.svg\" alt=\"Open In Colab\"/></a>"
      ]
    },
    {
      "cell_type": "markdown",
      "source": [
        "# Mastering GDAL Tools\n",
        "\n",
        "This notebook contains the command-line workflows covered in the [Mastering GDAL Tools](https://courses.spatialthoughts.com/gdal-tools.html#) course. The notebook environment provides a great interactive learning environment for reproducing these workflows and maybe helpful to many people. You may use this as an alternative to the Terminal-based workflow taught in the course."
      ],
      "metadata": {
        "id": "4nWu8JyCh_DN"
      }
    },
    {
      "cell_type": "markdown",
      "source": [
        "## Running Commands in a Notebook\n",
        "\n",
        "You can run the GDAL commands in a Jupyter/Notebook environment by using the *Shell Assignment Syntax* - prefixing the commands with `!`. Any code cell starting with `!` will be run as a command in the shell.\n",
        "\n",
        "For example, to run the following command `gdalinfo --version`, run it as follows in a notebook cell.\n",
        "\n",
        "```\n",
        "!gdalinfo --version\n",
        "```\n",
        "\n",
        "Jupyter Notebooks allows users to run [magic commands](https://ipython.readthedocs.io/en/stable/interactive/magics.html) that are useful when using command-line workflows.\n",
        "\n",
        "For changing directories, you can use the Jupyter line magic `%cd`.\n",
        "\n",
        "```\n",
        "%cd gdal-tools\n",
        "```\n",
        "\n",
        "Multiline shell commands can be run using the `%%bash` cell magic.\n",
        "\n",
        "```\n",
        "%%bash\n",
        "cd gdal-tools\n",
        "ls\n",
        "```"
      ],
      "metadata": {
        "id": "dISAtzX0g6sM"
      }
    },
    {
      "cell_type": "markdown",
      "source": [
        "## Setup and Data Download"
      ],
      "metadata": {
        "id": "D-5Rp08ib6IH"
      }
    },
    {
      "cell_type": "markdown",
      "source": [
        "Install GDAL Binaries"
      ],
      "metadata": {
        "id": "bu2ZWk-kdZl1"
      }
    },
    {
      "cell_type": "code",
      "source": [
        "%%capture\n",
        "if 'google.colab' in str(get_ipython()):\n",
        "  !apt-get install gdal-bin\n",
        "  !pip install leafmap[raster]"
      ],
      "metadata": {
        "id": "c1YNSUBMb4yp"
      },
      "execution_count": null,
      "outputs": []
    },
    {
      "cell_type": "markdown",
      "source": [
        "Verify that GDAL Tools are installed correctly."
      ],
      "metadata": {
        "id": "faPwP-uRdTjm"
      }
    },
    {
      "cell_type": "code",
      "source": [
        "!gdalinfo --version"
      ],
      "metadata": {
        "id": "bgJGw2c3cWuv"
      },
      "execution_count": null,
      "outputs": []
    },
    {
      "cell_type": "markdown",
      "source": [
        "Download and Unzip the Data Package"
      ],
      "metadata": {
        "id": "IdPpnN6jdb3n"
      }
    },
    {
      "cell_type": "code",
      "source": [
        "import os\n",
        "import zipfile\n",
        "import leafmap\n",
        "import matplotlib.pyplot as plt\n",
        "import rasterio"
      ],
      "metadata": {
        "id": "FwY_idK1dwyt"
      },
      "execution_count": null,
      "outputs": []
    },
    {
      "cell_type": "code",
      "source": [
        "def download(url):\n",
        "    filename = os.path.join(os.path.basename(url))\n",
        "    if not os.path.exists(filename):\n",
        "        from urllib.request import urlretrieve\n",
        "        local, _ = urlretrieve(url, filename)\n",
        "        print('Downloaded ' + local)\n",
        "\n",
        "\n",
        "data_pkg_zip = 'gdal-tools.zip'\n",
        "data_url = 'https://storage.googleapis.com/spatialthoughts-public-data/gdal/'\n",
        "\n",
        "\n",
        "download(data_url + data_pkg_zip)"
      ],
      "metadata": {
        "id": "H4MHfRdgcQKn"
      },
      "execution_count": null,
      "outputs": []
    },
    {
      "cell_type": "code",
      "source": [
        "with zipfile.ZipFile(data_pkg_zip) as zf:\n",
        "  foldername = [info.filename for info in zf.infolist() if info.is_dir()][0]\n",
        "  # Extract all the data\n",
        "  zf.extractall()\n",
        "\n",
        "print(f'Extracted the files to {foldername}.')"
      ],
      "metadata": {
        "id": "TGZw2t86ds2f"
      },
      "execution_count": null,
      "outputs": []
    },
    {
      "cell_type": "markdown",
      "source": [
        "Once extracted, navigate to the data package folder. Here we set the `DATA_FOLDER` varaible to the full path in Google Colab. If you are using the notebook on your local machine, replace the path with the location of the unzipped folder.\n"
      ],
      "metadata": {
        "id": "zqxdXQ_OfIJY"
      }
    },
    {
      "cell_type": "code",
      "source": [
        "DATA_FOLDER = '/content/gdal-tools'\n",
        "%cd $DATA_FOLDER"
      ],
      "metadata": {
        "id": "RC8EOP8nfB_4"
      },
      "execution_count": null,
      "outputs": []
    },
    {
      "cell_type": "markdown",
      "source": [
        "## 1. GDAL Tools\n",
        "\n"
      ],
      "metadata": {
        "id": "SPZTWfU1b25p"
      }
    },
    {
      "cell_type": "markdown",
      "source": [
        "### 1.1 Basic Raster Processing"
      ],
      "metadata": {
        "id": "HL0k1CrodS5n"
      }
    },
    {
      "cell_type": "code",
      "source": [
        "%cd $DATA_FOLDER/srtm"
      ],
      "metadata": {
        "id": "9V753qaNfRqD"
      },
      "execution_count": null,
      "outputs": []
    },
    {
      "cell_type": "code",
      "source": [
        "!gdalinfo N28E086.hgt"
      ],
      "metadata": {
        "id": "JcDs7IqJhPoK"
      },
      "execution_count": null,
      "outputs": []
    },
    {
      "cell_type": "code",
      "source": [
        "!gdalinfo -stats N28E086.hgt"
      ],
      "metadata": {
        "id": "LZOIYw4ahSBE"
      },
      "execution_count": null,
      "outputs": []
    },
    {
      "cell_type": "markdown",
      "source": [
        "### 1.1.1 Merging Tiles"
      ],
      "metadata": {
        "id": "HSuNeSFuhZXZ"
      }
    },
    {
      "cell_type": "code",
      "source": [
        "!ls *.hgt > filelist.txt"
      ],
      "metadata": {
        "id": "AIhCiatlhVf8"
      },
      "execution_count": null,
      "outputs": []
    },
    {
      "cell_type": "code",
      "source": [
        "!cat filelist.txt"
      ],
      "metadata": {
        "id": "37aqrDG7hgr5"
      },
      "execution_count": null,
      "outputs": []
    },
    {
      "cell_type": "code",
      "source": [
        "!gdalbuildvrt -input_file_list filelist.txt merged.vrt"
      ],
      "metadata": {
        "id": "JIs4jJIFhcsi"
      },
      "execution_count": null,
      "outputs": []
    },
    {
      "cell_type": "markdown",
      "source": [
        "### 1.1.2 Converting Formats"
      ],
      "metadata": {
        "id": "mZunmbbXjSOS"
      }
    },
    {
      "cell_type": "code",
      "source": [
        "!gdal_translate -of GTiff merged.vrt merged.tif"
      ],
      "metadata": {
        "id": "vdE4zMCyjUGh"
      },
      "execution_count": null,
      "outputs": []
    },
    {
      "cell_type": "code",
      "source": [
        "!ls -lh merged.tif"
      ],
      "metadata": {
        "id": "JRWx54JljYES"
      },
      "execution_count": null,
      "outputs": []
    },
    {
      "cell_type": "markdown",
      "source": [
        "### 1.1.3 Compressing Output"
      ],
      "metadata": {
        "id": "uyaYBlYBjo0y"
      }
    },
    {
      "cell_type": "code",
      "source": [
        "!gdal_translate -of GTiff merged.vrt merged.tif -co COMPRESS=DEFLATE"
      ],
      "metadata": {
        "id": "IbOnV9JujVlo"
      },
      "execution_count": null,
      "outputs": []
    },
    {
      "cell_type": "code",
      "source": [
        "!ls -lh merged.tif"
      ],
      "metadata": {
        "id": "SperCMH5jc1J"
      },
      "execution_count": null,
      "outputs": []
    },
    {
      "cell_type": "code",
      "source": [
        "!gdal_translate -of GTiff merged.vrt merged.tif \\\n",
        "  -co COMPRESS=DEFLATE -co TILED=YES -co PREDICTOR=2"
      ],
      "metadata": {
        "id": "DEfFUecmjhHB"
      },
      "execution_count": null,
      "outputs": []
    },
    {
      "cell_type": "code",
      "source": [
        "!ls -lh merged.tif"
      ],
      "metadata": {
        "id": "safbuxvnjkfx"
      },
      "execution_count": null,
      "outputs": []
    },
    {
      "cell_type": "markdown",
      "source": [
        "### 1.1.4 Setting NoData Values"
      ],
      "metadata": {
        "id": "Yqepjs8YjsYi"
      }
    },
    {
      "cell_type": "code",
      "source": [
        "!gdal_translate -of GTiff merged.vrt merged.tif \\\n",
        "  -co COMPRESS=DEFLATE -co TILED=YES -co PREDICTOR=2 -a_nodata -9999"
      ],
      "metadata": {
        "id": "3LSKAYAtjky6"
      },
      "execution_count": null,
      "outputs": []
    },
    {
      "cell_type": "code",
      "source": [
        "!gdalinfo merged.tif"
      ],
      "metadata": {
        "id": "nWbE2jKjjyJB"
      },
      "execution_count": null,
      "outputs": []
    },
    {
      "cell_type": "markdown",
      "source": [
        "### 1.1.5 Writing Cloud-Optimized GeoTIFF (COG)\n"
      ],
      "metadata": {
        "id": "eUgKbhmZj09u"
      }
    },
    {
      "cell_type": "code",
      "source": [
        "!gdal_translate -of COG merged.vrt merged_cog.tif \\\n",
        "  -co COMPRESS=DEFLATE -co PREDICTOR=2 -co NUM_THREADS=ALL_CPUS \\\n",
        "  -a_nodata -9999"
      ],
      "metadata": {
        "id": "mTHeFbnCj2cg"
      },
      "execution_count": null,
      "outputs": []
    },
    {
      "cell_type": "code",
      "source": [
        "m = leafmap.Map(width=800, height=500)\n",
        "m.add_raster('merged_cog.tif', colormap='gray', layer_name='DEM')\n",
        "m"
      ],
      "metadata": {
        "id": "6ezyhAg4j7Wh"
      },
      "execution_count": null,
      "outputs": []
    },
    {
      "cell_type": "markdown",
      "source": [
        "### 1.2.1 Creating Hillshade\n"
      ],
      "metadata": {
        "id": "rvXJLaoKrawh"
      }
    },
    {
      "cell_type": "code",
      "source": [
        "!gdaldem hillshade -of COG merged.tif hillshade.tif -s 111120"
      ],
      "metadata": {
        "id": "SMTUy9OlkBWi"
      },
      "execution_count": null,
      "outputs": []
    },
    {
      "cell_type": "code",
      "source": [
        "!gdaldem hillshade -of COG merged.tif hillshade_combined.tif -s 111120 -multidirectional"
      ],
      "metadata": {
        "id": "-FMyI3vGrdKz"
      },
      "execution_count": null,
      "outputs": []
    },
    {
      "cell_type": "code",
      "source": [
        "m = leafmap.Map(width=800, height=500)\n",
        "m.add_raster('hillshade.tif', colormap='gray', layer_name='Hillshade')\n",
        "m.add_raster('hillshade_combined.tif', colormap='gray', layer_name='Multidirectional Hillshade')\n",
        "m"
      ],
      "metadata": {
        "id": "0hHR52EKrqXh"
      },
      "execution_count": null,
      "outputs": []
    },
    {
      "cell_type": "markdown",
      "source": [
        "### 1.2.2 Creating Color Relief\n"
      ],
      "metadata": {
        "id": "_vTWokONswQ9"
      }
    },
    {
      "cell_type": "code",
      "source": [
        "%%bash\n",
        "cat << EOF > colormap.txt\n",
        "1000,101,146,82\n",
        "1500,190,202,130\n",
        "2000,241,225,145\n",
        "2500,244,200,126\n",
        "3000,197,147,117\n",
        "4000,204,169,170\n",
        "5000,251,238,253\n",
        "6000,255,255,255\n",
        "EOF"
      ],
      "metadata": {
        "id": "E9gICq8Ive5_"
      },
      "execution_count": null,
      "outputs": []
    },
    {
      "cell_type": "code",
      "source": [
        "!gdaldem color-relief -of COG  merged.tif colormap.txt colorized.tif"
      ],
      "metadata": {
        "id": "3y0MT17vtQ6r"
      },
      "execution_count": null,
      "outputs": []
    },
    {
      "cell_type": "code",
      "source": [
        "m = leafmap.Map(width=800, height=500)\n",
        "m.add_raster('colorized.tif', layer_name='Color Relief')\n",
        "m"
      ],
      "metadata": {
        "id": "U35pYqzbwPcK"
      },
      "execution_count": null,
      "outputs": []
    },
    {
      "cell_type": "markdown",
      "source": [
        "## 1.3 Processing Aerial Imagery\n"
      ],
      "metadata": {
        "id": "dBt5uArm4v8D"
      }
    },
    {
      "cell_type": "code",
      "source": [
        "%cd $DATA_FOLDER/naip"
      ],
      "metadata": {
        "id": "rQHeRfoJwjUo"
      },
      "execution_count": null,
      "outputs": []
    },
    {
      "cell_type": "code",
      "source": [
        "!ls *.jp2 > filelist.txt"
      ],
      "metadata": {
        "id": "SeEqaR3444H1"
      },
      "execution_count": null,
      "outputs": []
    },
    {
      "cell_type": "code",
      "source": [
        "!gdalbuildvrt -addalpha -input_file_list filelist.txt naip.vrt"
      ],
      "metadata": {
        "id": "fHrxI6ld48zA"
      },
      "execution_count": null,
      "outputs": []
    },
    {
      "cell_type": "code",
      "source": [
        "!gdal_translate -b 1 -b 2 -b 3 -of JPEG -outsize 2% 2% naip.vrt naip_preview.jpg"
      ],
      "metadata": {
        "id": "ovfBmG7n4_tX"
      },
      "execution_count": null,
      "outputs": []
    },
    {
      "cell_type": "code",
      "source": [
        "from PIL import Image\n",
        "from IPython.display import display\n",
        "img = Image.open('naip_preview.jpg')\n",
        "display(img)"
      ],
      "metadata": {
        "id": "IucYIy1Q5is5"
      },
      "execution_count": null,
      "outputs": []
    },
    {
      "cell_type": "markdown",
      "source": [
        "### 1.3.2 Create a Tile Index\n"
      ],
      "metadata": {
        "id": "6-ALER7V5u_j"
      }
    },
    {
      "cell_type": "code",
      "source": [
        "!gdaltindex -write_absolute_path index.shp --optfile filelist.txt"
      ],
      "metadata": {
        "id": "4DQIm0xu5ws8"
      },
      "execution_count": null,
      "outputs": []
    },
    {
      "cell_type": "code",
      "source": [
        "m = leafmap.Map(width=800, height=500)\n",
        "m.add_vector('index.shp', layer_name='Tile Index')\n",
        "m"
      ],
      "metadata": {
        "id": "RnChBZd7kUU-"
      },
      "execution_count": null,
      "outputs": []
    },
    {
      "cell_type": "code",
      "source": [
        "!gdalwarp -cutline aoi.shp  -crop_to_cutline naip.vrt aoi_cut.tif -co COMPRESS=DEFLATE -co TILED=YES"
      ],
      "metadata": {
        "id": "PnsA7LMY5y1r"
      },
      "execution_count": null,
      "outputs": []
    },
    {
      "cell_type": "code",
      "source": [
        "!gdal_translate aoi_cut.tif aoi.tif \\\n",
        "  -co COMPRESS=JPEG -co TILED=YES -co PHOTOMETRIC=YCBCR -co JPEG_QUALITY=75 \\\n",
        "  -b 1 -b 2 -b 3 -mask 4 --config GDAL_TIFF_INTERNAL_MASK YES"
      ],
      "metadata": {
        "id": "gbAS1dj06GaY"
      },
      "execution_count": null,
      "outputs": []
    },
    {
      "cell_type": "markdown",
      "source": [
        "### 1.3.5 Creating Overviews"
      ],
      "metadata": {
        "id": "weMaf1wP59fr"
      }
    },
    {
      "cell_type": "code",
      "source": [
        "!gdaladdo aoi.tif"
      ],
      "metadata": {
        "id": "ML9X7B-j58AG"
      },
      "execution_count": null,
      "outputs": []
    },
    {
      "cell_type": "code",
      "source": [
        "!gdaladdo -r bilinear --config COMPRESS_OVERVIEW JPEG aoi.tif"
      ],
      "metadata": {
        "id": "zh4vll8m50_j"
      },
      "execution_count": null,
      "outputs": []
    },
    {
      "cell_type": "code",
      "source": [
        "!gdal_translate -of COG aoi.tif aoi_cog.tif -co NUM_THREADS=ALL_CPUS"
      ],
      "metadata": {
        "id": "z9h37PoamO6z"
      },
      "execution_count": null,
      "outputs": []
    },
    {
      "cell_type": "code",
      "source": [
        "m = leafmap.Map(width=800, height=500)\n",
        "m.add_raster('aoi_cog.tif', layer_name='Aerial Mosaic')\n",
        "m"
      ],
      "metadata": {
        "id": "MUSzLbE16Zkd"
      },
      "execution_count": null,
      "outputs": []
    },
    {
      "cell_type": "markdown",
      "source": [
        "## 1.4 Processing Satellite Imagery\n"
      ],
      "metadata": {
        "id": "LRA6lqzmn-uy"
      }
    },
    {
      "cell_type": "code",
      "source": [
        "%cd $DATA_FOLDER/landsat8"
      ],
      "metadata": {
        "id": "iKfry0Z5n-uz"
      },
      "execution_count": null,
      "outputs": []
    },
    {
      "cell_type": "markdown",
      "source": [
        "### 1.4.1 Merging individual bands into RGB composite\n"
      ],
      "metadata": {
        "id": "8LIUNX3ooGxK"
      }
    },
    {
      "cell_type": "code",
      "source": [
        "!gdalbuildvrt -o rgb.vrt -separate \\\n",
        "  RT_LC08_L1TP_137042_20190920_20190926_01_T1_2019-09-20_B4.tif \\\n",
        "  RT_LC08_L1TP_137042_20190920_20190926_01_T1_2019-09-20_B3.tif \\\n",
        "  RT_LC08_L1TP_137042_20190920_20190926_01_T1_2019-09-20_B2.tif"
      ],
      "metadata": {
        "id": "oZxU1pwvoCVs"
      },
      "execution_count": null,
      "outputs": []
    },
    {
      "cell_type": "code",
      "source": [
        "!gdal_translate -of COG rgb.vrt rgb.tif -co COMPRESS=DEFLATE"
      ],
      "metadata": {
        "id": "G6DKUPQQoFMN"
      },
      "execution_count": null,
      "outputs": []
    },
    {
      "cell_type": "code",
      "source": [
        "m = leafmap.Map(width=800, height=500)\n",
        "m.add_raster('rgb.tif', layer_name='RGB Composite')\n",
        "m"
      ],
      "metadata": {
        "id": "gNsaH8XroNfj"
      },
      "execution_count": null,
      "outputs": []
    },
    {
      "cell_type": "markdown",
      "source": [
        "### 1.4.2 Apply Histogram Stretch and Color Correction"
      ],
      "metadata": {
        "id": "I_oIgCjZoXMv"
      }
    },
    {
      "cell_type": "code",
      "source": [
        "!gdal_translate -scale 0 0.3 0 255 -ot Byte rgb.tif rgb_stretch.tif"
      ],
      "metadata": {
        "id": "mjq6x854oYkP"
      },
      "execution_count": null,
      "outputs": []
    },
    {
      "cell_type": "code",
      "source": [
        "!gdal_translate -scale 0 0.3 0 255 -exponent 0.5 -ot Byte rgb.tif rgb_stretch.tif"
      ],
      "metadata": {
        "id": "8UQt7ZoXrsl7"
      },
      "execution_count": null,
      "outputs": []
    },
    {
      "cell_type": "code",
      "source": [
        "!gdal_translate -of COG rgb_stretch.tif rgb_stretch_cog.tif -co NUM_THREADS=ALL_CPUS"
      ],
      "metadata": {
        "id": "wpOUkk6Erdqg"
      },
      "execution_count": null,
      "outputs": []
    },
    {
      "cell_type": "code",
      "source": [
        "m = leafmap.Map(width=800, height=500)\n",
        "m.add_raster('rgb_stretch_cog.tif', layer_name='RGB Stretched')\n",
        "m"
      ],
      "metadata": {
        "id": "feKmdNgbocmz"
      },
      "execution_count": null,
      "outputs": []
    },
    {
      "cell_type": "markdown",
      "source": [
        "### 1.4.3 Raster Algebra"
      ],
      "metadata": {
        "id": "BHZpL4OepDbK"
      }
    },
    {
      "cell_type": "code",
      "source": [
        "!ls"
      ],
      "metadata": {
        "id": "FRAwnpU3puYz"
      },
      "execution_count": null,
      "outputs": []
    },
    {
      "cell_type": "code",
      "source": [
        "!gdalinfo -stats RT_LC08_L1TP_137042_20190920_20190926_01_T1_2019-09-20_B4.tif"
      ],
      "metadata": {
        "id": "4VxCgY2cpEnl"
      },
      "execution_count": null,
      "outputs": []
    },
    {
      "cell_type": "code",
      "source": [
        "!gdal_calc.py -A RT_LC08_L1TP_137042_20190920_20190926_01_T1_2019-09-20_B5.tif \\\n",
        "  -B RT_LC08_L1TP_137042_20190920_20190926_01_T1_2019-09-20_B4.tif \\\n",
        "  --outfile ndvi.tif --calc=\"(A-B)/(A+B)\" --NoDataValue=-999"
      ],
      "metadata": {
        "id": "KlmkEycspLuM"
      },
      "execution_count": null,
      "outputs": []
    },
    {
      "cell_type": "code",
      "source": [
        "!gdal_translate -of COG ndvi.tif ndvi_cog.tif -co NUM_THREADS=ALL_CPUS"
      ],
      "metadata": {
        "id": "7ofqoMixqhRZ"
      },
      "execution_count": null,
      "outputs": []
    },
    {
      "cell_type": "code",
      "source": [
        "m = leafmap.Map(width=800, height=500)\n",
        "m.add_raster('ndvi_cog.tif', colormap='Greens', vmin=0, vmax=0.8, layer_name='NDVI')\n",
        "m"
      ],
      "metadata": {
        "id": "353I0IUvpONA"
      },
      "execution_count": null,
      "outputs": []
    },
    {
      "cell_type": "markdown",
      "source": [
        "### 1.4.4 Pan Sharpening\n"
      ],
      "metadata": {
        "id": "nfQTNkN-qSwh"
      }
    },
    {
      "cell_type": "code",
      "source": [
        "!gdal_pansharpen.py RT_LC08_L1TP_137042_20190920_20190926_01_T1_2019-09-20_B8.tif \\\n",
        "  rgb.tif pansharpened.tif -r bilinear -co COMPRESS=DEFLATE -co PHOTOMETRIC=RGB"
      ],
      "metadata": {
        "id": "DPHTFL8fqUY7"
      },
      "execution_count": null,
      "outputs": []
    },
    {
      "cell_type": "code",
      "source": [
        "!gdal_translate -scale 0 0.3 0 255 -exponent 0.5 -ot Byte -a_nodata 0 \\\n",
        "  pansharpened.tif pansharpened_stretch.tif"
      ],
      "metadata": {
        "id": "4fkUR53tqYrk"
      },
      "execution_count": null,
      "outputs": []
    },
    {
      "cell_type": "code",
      "source": [
        "!gdal_translate -of COG pansharpened_stretch.tif pansharpened_stretch_cog.tif -co NUM_THREADS=ALL_CPUS"
      ],
      "metadata": {
        "id": "bNAV93HBrJFs"
      },
      "execution_count": null,
      "outputs": []
    },
    {
      "cell_type": "code",
      "source": [
        "m = leafmap.Map(width=800, height=500)\n",
        "m.add_raster('rgb_stretch_cog.tif', layer_name='Original')\n",
        "m.add_raster('pansharpened_stretch_cog.tif', layer_name='Pansharpened')\n",
        "m"
      ],
      "metadata": {
        "id": "h3P86Hp3rD0h"
      },
      "execution_count": null,
      "outputs": []
    },
    {
      "cell_type": "markdown",
      "source": [
        "## 1.5 Processing WMS Layers"
      ],
      "metadata": {
        "id": "mPWG3tkgKHac"
      }
    },
    {
      "cell_type": "code",
      "source": [
        "%cd $DATA_FOLDER"
      ],
      "metadata": {
        "id": "Ytb6Ipd7L7TA"
      },
      "execution_count": null,
      "outputs": []
    },
    {
      "cell_type": "markdown",
      "source": [
        "### 1.5.1 Listing WMS Layers\n"
      ],
      "metadata": {
        "id": "-FkCtLRiKMy9"
      }
    },
    {
      "cell_type": "code",
      "source": [
        "!gdalinfo \"WMS:https://sedac.ciesin.columbia.edu/geoserver/wms?version=1.3.0\""
      ],
      "metadata": {
        "id": "i4SEofzcKLe6"
      },
      "execution_count": null,
      "outputs": []
    },
    {
      "cell_type": "code",
      "source": [
        "!gdalinfo \"WMS:https://sedac.ciesin.columbia.edu/geoserver/wms?SERVICE=WMS&VERSION=1.3.0&REQUEST=GetMap&LAYERS=grand-v1%3Agrand-v1-reservoirs-rev01&CRS=CRS:84&BBOX=-153.037,-45.881,176.825,70.398\""
      ],
      "metadata": {
        "id": "0D01YDutKR2L"
      },
      "execution_count": null,
      "outputs": []
    },
    {
      "cell_type": "markdown",
      "source": [
        "### 1.5.2 Creating a Service Description File"
      ],
      "metadata": {
        "id": "-CH2ZNj3NK7-"
      }
    },
    {
      "cell_type": "code",
      "source": [
        "!gdal_translate -of WMS \"WMS:https://sedac.ciesin.columbia.edu/geoserver/wms?SERVICE=WMS&VERSION=1.3.0&REQUEST=GetMap&LAYERS=grand-v1%3Agrand-v1-reservoirs-rev01&CRS=CRS:84&BBOX=-153.037,-45.881,176.825,70.398\" reservoirs.xml"
      ],
      "metadata": {
        "id": "udrO-OFTLwNs"
      },
      "execution_count": null,
      "outputs": []
    },
    {
      "cell_type": "markdown",
      "source": [
        "### 1.5.3 Downloading WMS Layers\n"
      ],
      "metadata": {
        "id": "dvMq8uRmNO88"
      }
    },
    {
      "cell_type": "code",
      "source": [
        "!gdalwarp -tr 0.1 0.1 reservoirs.xml reservoirs.tif -co COMPRESS=DEFLATE -co TILED=YES"
      ],
      "metadata": {
        "id": "RON5mQgFMIYI"
      },
      "execution_count": null,
      "outputs": []
    },
    {
      "cell_type": "code",
      "source": [
        "!gdalwarp -tr 0.005 0.005 -te 68.106 6.762 97.412 37.078 reservoirs.xml reservoirs_india.tif -co COMPRESS=DEFLATE -co TILED=YES"
      ],
      "metadata": {
        "id": "a03Cc3ofMLC3"
      },
      "execution_count": null,
      "outputs": []
    },
    {
      "cell_type": "code",
      "source": [
        "!gdal_translate -of COG reservoirs_india.tif reservoirs_india_cog.tif -co NUM_THREADS=ALL_CPUS"
      ],
      "metadata": {
        "id": "OqpsLvQiMfOZ"
      },
      "execution_count": null,
      "outputs": []
    },
    {
      "cell_type": "code",
      "source": [
        "m = leafmap.Map(width=800, height=500)\n",
        "m.add_raster('reservoirs_india_cog.tif', layer_name='Downloaded WMS Layer')\n",
        "m"
      ],
      "metadata": {
        "id": "A4QeVXH-MeY2"
      },
      "execution_count": null,
      "outputs": []
    },
    {
      "cell_type": "markdown",
      "source": [
        "## 1.6 Georeferencing\n"
      ],
      "metadata": {
        "id": "-KJ9KhpmNRYM"
      }
    },
    {
      "cell_type": "markdown",
      "source": [
        "### 1.6.1 Georeferencing Images with Bounding Box Coordinates\n"
      ],
      "metadata": {
        "id": "wL-EwF-PNeg4"
      }
    },
    {
      "cell_type": "code",
      "source": [
        "!gdalinfo earth_at_night.jpg"
      ],
      "metadata": {
        "id": "aR5anehkNTAh"
      },
      "execution_count": null,
      "outputs": []
    },
    {
      "cell_type": "code",
      "source": [
        "!gdal_translate -a_ullr -180 90 180 -90 -a_srs EPSG:4326 \\\n",
        "  earth_at_night.jpg earth_at_night.tif \\\n",
        "  -co COMPRESS=JPEG -co TILED=YES -co PHOTOMETRIC=RGB"
      ],
      "metadata": {
        "id": "21tSDMu5Ndm2"
      },
      "execution_count": null,
      "outputs": []
    },
    {
      "cell_type": "code",
      "source": [
        "!gdalinfo earth_at_night.tif"
      ],
      "metadata": {
        "id": "nNh8xe66Njdg"
      },
      "execution_count": null,
      "outputs": []
    },
    {
      "cell_type": "markdown",
      "source": [
        "### 1.6.2 Georeferencing with GCPs\n"
      ],
      "metadata": {
        "id": "hA7GN6a8Npjl"
      }
    },
    {
      "cell_type": "code",
      "source": [
        "!gdal_translate -gcp 418 893 70 15 -gcp 380 2432 70 5 -gcp 3453 2434  90 5 \\\n",
        "  -gcp 3407 895 90 15 -gcp 2662 911 85 15 \\\n",
        "  1870_southern-india.jpg india-with-gcp.tif"
      ],
      "metadata": {
        "id": "2c5GL4OUNqcM"
      },
      "execution_count": null,
      "outputs": []
    },
    {
      "cell_type": "code",
      "source": [
        "!gdalwarp -t_srs EPSG:4042 -order 1 -tr 0.005 0.005 \\\n",
        "  india-with-gcp.tif india-reprojected-polynomial.tif \\\n",
        "  -co COMPRESS=JPEG -co JPEG_QUALITY=50 -co PHOTOMETRIC=YCBCR"
      ],
      "metadata": {
        "id": "MaigZ14uNviW"
      },
      "execution_count": null,
      "outputs": []
    },
    {
      "cell_type": "markdown",
      "source": [
        "# OGR Tools\n"
      ],
      "metadata": {
        "id": "1cJfwYk9f2Jz"
      }
    },
    {
      "cell_type": "markdown",
      "source": [
        "## 2.1 ETL Basics\n"
      ],
      "metadata": {
        "id": "K418x2TAfxIz"
      }
    },
    {
      "cell_type": "code",
      "source": [
        "%cd $DATA_FOLDER/"
      ],
      "metadata": {
        "id": "zIo3ADA4gbC9"
      },
      "execution_count": null,
      "outputs": []
    },
    {
      "cell_type": "markdown",
      "source": [
        "### 2.1.1 Read a CSV data source"
      ],
      "metadata": {
        "id": "9aV1whbKfszq"
      }
    },
    {
      "cell_type": "code",
      "source": [
        "!ogrinfo worldcities.csv"
      ],
      "metadata": {
        "id": "WK0MhtzRf6fG"
      },
      "execution_count": null,
      "outputs": []
    },
    {
      "cell_type": "code",
      "source": [
        "!ogrinfo -so -al worldcities.csv"
      ],
      "metadata": {
        "id": "aObAnZt0f8Yi"
      },
      "execution_count": null,
      "outputs": []
    },
    {
      "cell_type": "markdown",
      "source": [
        "### 2.1.2 Convert it to point data layer"
      ],
      "metadata": {
        "id": "6kYzhcHngDE3"
      }
    },
    {
      "cell_type": "code",
      "source": [
        "!ogrinfo -so -al worldcities.csv -oo X_POSSIBLE_NAMES=lng -oo Y_POSSIBLE_NAMES=lat"
      ],
      "metadata": {
        "id": "h1PlMQ36gAYL"
      },
      "execution_count": null,
      "outputs": []
    },
    {
      "cell_type": "code",
      "source": [
        "!ogr2ogr -f GPKG worldcities.gpkg worldcities.csv \\\n",
        "  -oo X_POSSIBLE_NAMES=lng -oo Y_POSSIBLE_NAMES=lat"
      ],
      "metadata": {
        "id": "AeCchPKFgNXM"
      },
      "execution_count": null,
      "outputs": []
    },
    {
      "cell_type": "markdown",
      "source": [
        "### 2.1.3 Assign it a CRS\n"
      ],
      "metadata": {
        "id": "NufwdvZTgs3p"
      }
    },
    {
      "cell_type": "code",
      "source": [
        "!ogr2ogr -f GPKG worldcities.gpkg worldcities.csv \\\n",
        "  -oo X_POSSIBLE_NAMES=lng -oo Y_POSSIBLE_NAMES=lat -a_srs EPSG:4326"
      ],
      "metadata": {
        "id": "3SPFfJoNgmRQ"
      },
      "execution_count": null,
      "outputs": []
    },
    {
      "cell_type": "markdown",
      "source": [
        "### 2.1.4 Extract a subset\n"
      ],
      "metadata": {
        "id": "ZA97CYNag25D"
      }
    },
    {
      "cell_type": "code",
      "source": [
        "!ogr2ogr -f GPKG mycities.gpkg worldcities.csv \\\n",
        "  -oo X_POSSIBLE_NAMES=lng -oo Y_POSSIBLE_NAMES=lat -a_srs EPSG:4326 \\\n",
        "  -where \"country = 'India'\""
      ],
      "metadata": {
        "id": "ra_cP-wTgx6U"
      },
      "execution_count": null,
      "outputs": []
    },
    {
      "cell_type": "markdown",
      "source": [
        "### 2.1.5 Change the data type of a column"
      ],
      "metadata": {
        "id": "nk6xJ8wahA_V"
      }
    },
    {
      "cell_type": "code",
      "source": [
        "!ogr2ogr -f GPKG mycities.gpkg worldcities.csv \\\n",
        "  -oo X_POSSIBLE_NAMES=lng -oo Y_POSSIBLE_NAMES=lat -a_srs EPSG:4326 \\\n",
        "  -sql \"SELECT city, country, CAST(population AS integer) as population \\\n",
        "    from worldcities where country = 'India'\""
      ],
      "metadata": {
        "id": "5UHX7O-Ag8dK"
      },
      "execution_count": null,
      "outputs": []
    },
    {
      "cell_type": "markdown",
      "source": [
        "### 2.1.6 Rename the layer in GeoPackage"
      ],
      "metadata": {
        "id": "dUkYM_vihO0Z"
      }
    },
    {
      "cell_type": "code",
      "source": [
        "!ogr2ogr -f GPKG mycities.gpkg worldcities.csv \\\n",
        "  -oo X_POSSIBLE_NAMES=lng -oo Y_POSSIBLE_NAMES=lat -a_srs EPSG:4326 \\\n",
        "  -sql \"SELECT city, country, CAST(population AS integer) as population \\\n",
        "  from worldcities where country = 'India'\" -nln mycities"
      ],
      "metadata": {
        "id": "a62aK0QFhERc"
      },
      "execution_count": null,
      "outputs": []
    }
  ]
}